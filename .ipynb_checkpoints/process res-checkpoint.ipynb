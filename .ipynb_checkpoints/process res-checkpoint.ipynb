{
 "cells": [
  {
   "cell_type": "code",
   "execution_count": 4,
   "id": "23e84b3a",
   "metadata": {},
   "outputs": [
    {
     "data": {
      "text/plain": [
       "<module 'PostSW' from 'C:\\\\Users\\\\Lyle\\\\Documents\\\\DeCoDE\\\\DTAI\\\\PostSW.py'>"
      ]
     },
     "execution_count": 4,
     "metadata": {},
     "output_type": "execute_result"
    }
   ],
   "source": [
    "import pandas as pd\n",
    "import seaborn as sn\n",
    "import numpy as np\n",
    "import matplotlib.pyplot as plt\n",
    "\n",
    "import getInvalid\n",
    "import PostSW\n",
    "\n",
    "import importlib\n",
    "importlib.reload(getInvalid)\n",
    "importlib.reload(PostSW)"
   ]
  },
  {
   "cell_type": "code",
   "execution_count": 9,
   "id": "a6746206",
   "metadata": {
    "scrolled": false
   },
   "outputs": [
    {
     "data": {
      "application/vnd.jupyter.widget-view+json": {
       "model_id": "cf38240a79314782a892ed13fc7151c8",
       "version_major": 2,
       "version_minor": 0
      },
      "text/plain": [
       "Extracting data from files:   0%|          | 0/30 [00:00<?, ?it/s]"
      ]
     },
     "metadata": {},
     "output_type": "display_data"
    },
    {
     "name": "stderr",
     "output_type": "stream",
     "text": [
      "C:\\Users\\Lyle\\anaconda3\\envs\\tf\\lib\\site-packages\\pandas\\core\\indexing.py:2115: FutureWarning: In a future version, the Index constructor will not infer numeric dtypes when passed object-dtype sequences (matching Series behavior)\n",
      "  new_ix = Index(new_ix)\n",
      "C:\\Users\\Lyle\\anaconda3\\envs\\tf\\lib\\site-packages\\pandas\\core\\indexing.py:2115: FutureWarning: In a future version, the Index constructor will not infer numeric dtypes when passed object-dtype sequences (matching Series behavior)\n",
      "  new_ix = Index(new_ix)\n",
      "C:\\Users\\Lyle\\anaconda3\\envs\\tf\\lib\\site-packages\\pandas\\core\\indexing.py:2115: FutureWarning: In a future version, the Index constructor will not infer numeric dtypes when passed object-dtype sequences (matching Series behavior)\n",
      "  new_ix = Index(new_ix)\n",
      "C:\\Users\\Lyle\\anaconda3\\envs\\tf\\lib\\site-packages\\pandas\\core\\indexing.py:2115: FutureWarning: In a future version, the Index constructor will not infer numeric dtypes when passed object-dtype sequences (matching Series behavior)\n",
      "  new_ix = Index(new_ix)\n",
      "C:\\Users\\Lyle\\anaconda3\\envs\\tf\\lib\\site-packages\\pandas\\core\\indexing.py:2115: FutureWarning: In a future version, the Index constructor will not infer numeric dtypes when passed object-dtype sequences (matching Series behavior)\n",
      "  new_ix = Index(new_ix)\n"
     ]
    },
    {
     "data": {
      "application/vnd.jupyter.widget-view+json": {
       "model_id": "168791aabf2541e1843008ba0bd1df52",
       "version_major": 2,
       "version_minor": 0
      },
      "text/plain": [
       "Calculating Quanitities of Interest from Sim Output:   0%|          | 0/5929 [00:00<?, ?it/s]"
      ]
     },
     "metadata": {},
     "output_type": "display_data"
    },
    {
     "ename": "AttributeError",
     "evalue": "module 'PostSW' has no attribute 'oneHot'",
     "output_type": "error",
     "traceback": [
      "\u001b[1;31m---------------------------------------------------------------------------\u001b[0m",
      "\u001b[1;31mAttributeError\u001b[0m                            Traceback (most recent call last)",
      "\u001b[1;32m~\\AppData\\Local\\Temp\\ipykernel_23372\\2472817071.py\u001b[0m in \u001b[0;36m<cell line: 42>\u001b[1;34m()\u001b[0m\n\u001b[0;32m     40\u001b[0m \u001b[1;31m# data.index=augdf.index[list(data.index)]\u001b[0m\u001b[1;33m\u001b[0m\u001b[1;33m\u001b[0m\u001b[0m\n\u001b[0;32m     41\u001b[0m \u001b[0mdata\u001b[0m\u001b[1;33m.\u001b[0m\u001b[0mto_csv\u001b[0m\u001b[1;33m(\u001b[0m\u001b[1;34m\"Data to Evaluate/eval.csv\"\u001b[0m\u001b[1;33m)\u001b[0m\u001b[1;33m\u001b[0m\u001b[1;33m\u001b[0m\u001b[0m\n\u001b[1;32m---> 42\u001b[1;33m \u001b[0mdata\u001b[0m\u001b[1;33m=\u001b[0m\u001b[0mPostSW\u001b[0m\u001b[1;33m.\u001b[0m\u001b[0moneHot\u001b[0m\u001b[1;33m(\u001b[0m\u001b[0mdata\u001b[0m\u001b[1;33m)\u001b[0m\u001b[1;33m\u001b[0m\u001b[1;33m\u001b[0m\u001b[0m\n\u001b[0m\u001b[0;32m     43\u001b[0m \u001b[0mdata\u001b[0m\u001b[1;33m.\u001b[0m\u001b[0mto_csv\u001b[0m\u001b[1;33m(\u001b[0m\u001b[1;34m\"Data to Evaluate/eval_oh.csv\"\u001b[0m\u001b[1;33m)\u001b[0m\u001b[1;33m\u001b[0m\u001b[1;33m\u001b[0m\u001b[0m\n\u001b[0;32m     44\u001b[0m \u001b[0msimlengths\u001b[0m\u001b[1;33m.\u001b[0m\u001b[0mto_csv\u001b[0m\u001b[1;33m(\u001b[0m\u001b[1;34m\"Data to Evaluate/simlengths.csv\"\u001b[0m\u001b[1;33m)\u001b[0m\u001b[1;33m\u001b[0m\u001b[1;33m\u001b[0m\u001b[0m\n",
      "\u001b[1;31mAttributeError\u001b[0m: module 'PostSW' has no attribute 'oneHot'"
     ]
    }
   ],
   "source": [
    "methods = []\n",
    "methods.append([\"interp\",3])\n",
    "methods.append([\"gan\", 3])\n",
    "methods.append([\"tvae\",3])\n",
    "methods.append([\"ctgan\",3])\n",
    "methods.append([\"NSGA2\",3])\n",
    "methods.append([\"padgan_MO\",3])\n",
    "methods.append([\"padgan_agg\",3])\n",
    "methods.append([\"padgan_MO_clf\",3])\n",
    "methods.append([\"padgan_agg_clf\",3])\n",
    "methods.append([\"DTAI+NSGA\",3])\n",
    "# methods.append()\n",
    "\n",
    "\n",
    "files=[]\n",
    "filenames=[]\n",
    "simlengths=pd.DataFrame()\n",
    "for m_n in methods:\n",
    "    method, num = m_n\n",
    "    for i in range(1,1+num):\n",
    "        file=\"AI generated frame simulation results/Generation Results v3/\" + method + \"_\" + str(i) + \".csv\"\n",
    "        files.append(file)\n",
    "        filename=method + \"_\" + str(i)\n",
    "        filenames.append(filename)\n",
    "        data=pd.read_csv(file, skiprows=[0,1,2,27], index_col=0) \n",
    "        simlength=len(data.columns)-3\n",
    "#         print(simlength)\n",
    "        simlengths[filename] = [simlength]\n",
    "data = PostSW.extract_data_batch(files, [None], filenames , None)\n",
    "\n",
    "\n",
    "data=PostSW.calcQOA(data)\n",
    "data=PostSW.renameMats(data)\n",
    "#Set bridge booleans\n",
    "data=PostSW.setBridges(data)\n",
    "\n",
    "# invalid_bikes, perc=getInvalid.getInvalid(data)\n",
    "# data.drop(invalid_bikes, axis=0, inplace=True)\n",
    "# augdf=pd.read_csv(\"../Structural Analysis/Generated Data/\" + name + \"_final.csv\", index_col=0)\n",
    "# data.index=augdf.index[list(data.index)]\n",
    "data.to_csv(\"Data to Evaluate/eval.csv\")\n",
    "simlengths.to_csv(\"Data to Evaluate/simlengths.csv\")"
   ]
  },
  {
   "cell_type": "code",
   "execution_count": null,
   "id": "804771f2",
   "metadata": {},
   "outputs": [],
   "source": []
  }
 ],
 "metadata": {
  "kernelspec": {
   "display_name": "Python 3 (ipykernel)",
   "language": "python",
   "name": "python3"
  },
  "language_info": {
   "codemirror_mode": {
    "name": "ipython",
    "version": 3
   },
   "file_extension": ".py",
   "mimetype": "text/x-python",
   "name": "python",
   "nbconvert_exporter": "python",
   "pygments_lexer": "ipython3",
   "version": "3.10.4"
  }
 },
 "nbformat": 4,
 "nbformat_minor": 5
}
