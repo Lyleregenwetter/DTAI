{
 "cells": [
  {
   "cell_type": "code",
   "execution_count": 4,
   "id": "23e84b3a",
   "metadata": {},
   "outputs": [
    {
     "data": {
      "text/plain": [
       "<module 'PostSW' from 'C:\\\\Users\\\\Lyle\\\\Documents\\\\DeCoDE\\\\DTAI\\\\PostSW.py'>"
      ]
     },
     "execution_count": 4,
     "metadata": {},
     "output_type": "execute_result"
    }
   ],
   "source": [
    "import pandas as pd\n",
    "import seaborn as sn\n",
    "import numpy as np\n",
    "import matplotlib.pyplot as plt\n",
    "\n",
    "import getInvalid\n",
    "import PostSW\n",
    "\n",
    "import importlib\n",
    "importlib.reload(getInvalid)\n",
    "importlib.reload(PostSW)"
   ]
  },
  {
   "cell_type": "code",
   "execution_count": 10,
   "id": "a6746206",
   "metadata": {
    "scrolled": false
   },
   "outputs": [
    {
     "data": {
      "application/vnd.jupyter.widget-view+json": {
       "model_id": "90a3a0edc5644fa68e945b3e8102c3e7",
       "version_major": 2,
       "version_minor": 0
      },
      "text/plain": [
       "Extracting data from files:   0%|          | 0/30 [00:00<?, ?it/s]"
      ]
     },
     "metadata": {},
     "output_type": "display_data"
    },
    {
     "name": "stderr",
     "output_type": "stream",
     "text": [
      "C:\\Users\\Lyle\\anaconda3\\envs\\tf\\lib\\site-packages\\pandas\\core\\indexing.py:2115: FutureWarning: In a future version, the Index constructor will not infer numeric dtypes when passed object-dtype sequences (matching Series behavior)\n",
      "  new_ix = Index(new_ix)\n",
      "C:\\Users\\Lyle\\anaconda3\\envs\\tf\\lib\\site-packages\\pandas\\core\\indexing.py:2115: FutureWarning: In a future version, the Index constructor will not infer numeric dtypes when passed object-dtype sequences (matching Series behavior)\n",
      "  new_ix = Index(new_ix)\n",
      "C:\\Users\\Lyle\\anaconda3\\envs\\tf\\lib\\site-packages\\pandas\\core\\indexing.py:2115: FutureWarning: In a future version, the Index constructor will not infer numeric dtypes when passed object-dtype sequences (matching Series behavior)\n",
      "  new_ix = Index(new_ix)\n",
      "C:\\Users\\Lyle\\anaconda3\\envs\\tf\\lib\\site-packages\\pandas\\core\\indexing.py:2115: FutureWarning: In a future version, the Index constructor will not infer numeric dtypes when passed object-dtype sequences (matching Series behavior)\n",
      "  new_ix = Index(new_ix)\n",
      "C:\\Users\\Lyle\\anaconda3\\envs\\tf\\lib\\site-packages\\pandas\\core\\indexing.py:2115: FutureWarning: In a future version, the Index constructor will not infer numeric dtypes when passed object-dtype sequences (matching Series behavior)\n",
      "  new_ix = Index(new_ix)\n"
     ]
    },
    {
     "data": {
      "application/vnd.jupyter.widget-view+json": {
       "model_id": "8561032dcc6c42d992991219a0bb5faa",
       "version_major": 2,
       "version_minor": 0
      },
      "text/plain": [
       "Calculating Quanitities of Interest from Sim Output:   0%|          | 0/5929 [00:00<?, ?it/s]"
      ]
     },
     "metadata": {},
     "output_type": "display_data"
    }
   ],
   "source": [
    "methods = []\n",
    "methods.append([\"interp\",3])\n",
    "methods.append([\"gan\", 3])\n",
    "methods.append([\"tvae\",3])\n",
    "methods.append([\"ctgan\",3])\n",
    "methods.append([\"NSGA2\",3])\n",
    "methods.append([\"padgan_MO\",3])\n",
    "methods.append([\"padgan_agg\",3])\n",
    "methods.append([\"padgan_MO_clf\",3])\n",
    "methods.append([\"padgan_agg_clf\",3])\n",
    "methods.append([\"DTAI+NSGA\",3])\n",
    "# methods.append()\n",
    "\n",
    "\n",
    "files=[]\n",
    "filenames=[]\n",
    "simlengths=pd.DataFrame()\n",
    "for m_n in methods:\n",
    "    method, num = m_n\n",
    "    for i in range(1,1+num):\n",
    "        file=\"AI generated frame simulation results/Generation Results v3/\" + method + \"_\" + str(i) + \".csv\"\n",
    "        files.append(file)\n",
    "        filename=method + \"_\" + str(i)\n",
    "        filenames.append(filename)\n",
    "        data=pd.read_csv(file, skiprows=[0,1,2,27], index_col=0) \n",
    "        simlength=len(data.columns)-3\n",
    "#         print(simlength)\n",
    "        simlengths[filename] = [simlength]\n",
    "data = PostSW.extract_data_batch(files, [None], filenames , None)\n",
    "\n",
    "\n",
    "data=PostSW.calcQOA(data)\n",
    "data=PostSW.renameMats(data)\n",
    "#Set bridge booleans\n",
    "data=PostSW.setBridges(data)\n",
    "\n",
    "# invalid_bikes, perc=getInvalid.getInvalid(data)\n",
    "# data.drop(invalid_bikes, axis=0, inplace=True)\n",
    "# augdf=pd.read_csv(\"../Structural Analysis/Generated Data/\" + name + \"_final.csv\", index_col=0)\n",
    "# data.index=augdf.index[list(data.index)]\n",
    "data.to_csv(\"Data to Evaluate/eval.csv\")\n",
    "simlengths.to_csv(\"Data to Evaluate/simlengths.csv\")"
   ]
  },
  {
   "cell_type": "code",
   "execution_count": null,
   "id": "804771f2",
   "metadata": {},
   "outputs": [],
   "source": []
  }
 ],
 "metadata": {
  "kernelspec": {
   "display_name": "Python 3 (ipykernel)",
   "language": "python",
   "name": "python3"
  },
  "language_info": {
   "codemirror_mode": {
    "name": "ipython",
    "version": 3
   },
   "file_extension": ".py",
   "mimetype": "text/x-python",
   "name": "python",
   "nbconvert_exporter": "python",
   "pygments_lexer": "ipython3",
   "version": "3.10.4"
  }
 },
 "nbformat": 4,
 "nbformat_minor": 5
}
